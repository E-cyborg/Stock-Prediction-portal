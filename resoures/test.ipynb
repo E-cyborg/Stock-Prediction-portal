{
 "cells": [
  {
   "cell_type": "code",
   "execution_count": 1,
   "id": "22735c82",
   "metadata": {},
   "outputs": [],
   "source": [
    "import pandas  as pd\n"
   ]
  },
  {
   "cell_type": "code",
   "execution_count": null,
   "id": "9258dac4",
   "metadata": {},
   "outputs": [],
   "source": [
    "df=pd.read_csv('call_activity.csv')\n"
   ]
  },
  {
   "cell_type": "code",
   "execution_count": null,
   "id": "7ddac9cf",
   "metadata": {},
   "outputs": [],
   "source": [
    "# single condition for the filter\n",
    "\n",
    "df[df['International plan'] == 'Yes']"
   ]
  },
  {
   "cell_type": "code",
   "execution_count": null,
   "id": "c195b43b",
   "metadata": {},
   "outputs": [],
   "source": [
    "# multiple conditons to filter out\n",
    "\n",
    "df[(df['International plan'] == 'Yes') & (df['Voice mail plan'] =='No')]"
   ]
  },
  {
   "cell_type": "code",
   "execution_count": null,
   "id": "7171bed2",
   "metadata": {},
   "outputs": [],
   "source": []
  }
 ],
 "metadata": {
  "kernelspec": {
   "display_name": ".venv",
   "language": "python",
   "name": "python3"
  },
  "language_info": {
   "codemirror_mode": {
    "name": "ipython",
    "version": 3
   },
   "file_extension": ".py",
   "mimetype": "text/x-python",
   "name": "python",
   "nbconvert_exporter": "python",
   "pygments_lexer": "ipython3",
   "version": "3.13.4"
  }
 },
 "nbformat": 4,
 "nbformat_minor": 5
}
